{
 "cells": [
  {
   "cell_type": "code",
   "execution_count": 7,
   "metadata": {},
   "outputs": [],
   "source": [
    "@autor Gustavo Moss Renato Regianne\n",
    "import speech_recognition as sr\n",
    "from gtts import gTTS\n",
    "from unicodedata import normalize\n",
    "from playsound import playsound\n",
    "import webbrowser\n",
    "import os\n",
    "import sys\n",
    "import comandos"
   ]
  },
  {
   "cell_type": "code",
   "execution_count": 8,
   "metadata": {},
   "outputs": [],
   "source": [
    "class ComunicacaoEstagiario(object):\n",
    "    \n",
    "    def cria_audio(audio):\n",
    "        tts = gTTS(audio,lang='pt-br')\n",
    "        #Salva o arquivo de audio\n",
    "        tts.save('/home/moss/IA/teste.mp3')\n",
    "        print(\"sim mestre\")\n",
    "        #Da play ao audio\n",
    "        playsound('/home/moss/IA/teste.mp3')\n",
    "\n",
    "    \n",
    "    def ouvir_microfone():\n",
    "        \"\"\"Funcao responsavel por ouvir e reconhecer a fala\"\"\"\n",
    "        microfone = sr.Recognizer()  # Habilita o microfone para ouvir o usuario\n",
    "        with sr.Microphone() as source:\n",
    "            microfone.adjust_for_ambient_noise(source)  # Chama a funcao de reducao de ruido\n",
    "            print(\"Diga alguma coisa: \")\n",
    "            audio = microfone.listen(source)  # Armazena a informacao de audio na variavel\n",
    "        try:\n",
    "            texto = microfone.recognize_google(audio, language='pt-BR')  # Transforma audio em texto\n",
    "            if 'estagiário' in texto.lower():\n",
    "                print(\"Você disse: \" + texto)\n",
    "                return texto\n",
    "        # Caso nao tenha reconhecido o padrao de fala, exibe esta mensagem\n",
    "        except sr.WaitTimeoutError:\n",
    "            print(\"Não entendi\")"
   ]
  },
  {
   "cell_type": "code",
   "execution_count": 9,
   "metadata": {},
   "outputs": [],
   "source": [
    "class ComandosEstagiario(object):\n",
    "        \n",
    "#         transforma a primeira linha do arquivo em lista, \n",
    "#         a lista de comandos para poder ser manipulada,\n",
    "#         funcao privada\n",
    "        def __manipulaListaDeComandos():\n",
    "            with open('comandos.py','r') as arquivo:\n",
    "                linhas=arquivo.readlines()\n",
    "            lista=eval(linhas[0])\n",
    "            return lista\n",
    "        \n",
    "        def __selecionaComando(comando):\n",
    "            comandos=ComandosEstagiario.__manipulaListaDeComandos()\n",
    "            if comando in comandos:\n",
    "                return True\n",
    "\n",
    "        def __identificaComando(frase):\n",
    "            #so exemplo , vou mudar dps,aqui q vai entrar a lematizacao nlp\n",
    "            comando=frase.split()[1]\n",
    "            #desenvolvimento\n",
    "            return comando\n",
    "            \n",
    "        def executaComando(voz):\n",
    "            comando=ComandosEstagiario.__identificaComando(voz)\n",
    "            if ComandosEstagiario.__selecionaComando(comando):\n",
    "                eval(f'Estagiario.{comando}()')\n",
    "            else:\n",
    "                #vai ter uma funcao pra ele falar(audio)\n",
    "                print('desculpe mestre eu nao sei fazer isso, sou apenas um estagiario')\n",
    "    "
   ]
  },
  {
   "cell_type": "code",
   "execution_count": null,
   "metadata": {},
   "outputs": [],
   "source": [
    "class Estagiario(ComandosEstagiario,ComunicacaoEstagiario):\n",
    "    def interface():\n",
    "        frase=Estagiario.ouvir_microfone()\n",
    "        Estagiario.executaComando(frase)  \n",
    "        if not(frase):\n",
    "            sys.exit()\n",
    "            \n",
    "        interface()\n",
    "            \n",
    "        "
   ]
  },
  {
   "cell_type": "code",
   "execution_count": null,
   "metadata": {},
   "outputs": [],
   "source": []
  },
  {
   "cell_type": "code",
   "execution_count": null,
   "metadata": {},
   "outputs": [],
   "source": []
  }
 ],
 "metadata": {
  "kernelspec": {
   "display_name": "Python 3",
   "language": "python",
   "name": "python3"
  },
  "language_info": {
   "codemirror_mode": {
    "name": "ipython",
    "version": 3
   },
   "file_extension": ".py",
   "mimetype": "text/x-python",
   "name": "python",
   "nbconvert_exporter": "python",
   "pygments_lexer": "ipython3",
   "version": "3.6.9"
  },
  "latex_envs": {
   "LaTeX_envs_menu_present": true,
   "autoclose": false,
   "autocomplete": true,
   "bibliofile": "biblio.bib",
   "cite_by": "apalike",
   "current_citInitial": 1,
   "eqLabelWithNumbers": true,
   "eqNumInitial": 1,
   "hotkeys": {
    "equation": "Ctrl-E",
    "itemize": "Ctrl-I"
   },
   "labels_anchors": false,
   "latex_user_defs": false,
   "report_style_numbering": false,
   "user_envs_cfg": false
  }
 },
 "nbformat": 4,
 "nbformat_minor": 2
}
