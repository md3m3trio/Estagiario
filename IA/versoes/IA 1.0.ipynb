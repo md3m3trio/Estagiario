{
 "cells": [
  {
   "cell_type": "code",
   "execution_count": 25,
   "metadata": {},
   "outputs": [],
   "source": [
    "import speech_recognition as sr\n",
    "from gtts import gTTS\n",
    "from unicodedata import normalize\n",
    "from playsound import playsound\n",
    "import webbrowser"
   ]
  },
  {
   "cell_type": "code",
   "execution_count": 70,
   "metadata": {},
   "outputs": [],
   "source": [
    "##\n",
    "def cria_audio(audio):\n",
    "    tts = gTTS(audio,lang='pt-br')\n",
    "    #Salva o arquivo de audio\n",
    "    tts.save('/home/moss/IA/teste.mp3')\n",
    "    print(\"sim mestre\")\n",
    "    #Da play ao audio\n",
    "    playsound('/home/moss/IA/teste.mp3')\n",
    "\n",
    "##\n",
    "def ouvir_microfone():\n",
    "    \"\"\"Funcao responsavel por ouvir e reconhecer a fala\"\"\"\n",
    "    microfone = sr.Recognizer()  # Habilita o microfone para ouvir o usuario\n",
    "    with sr.Microphone() as source:\n",
    "        microfone.adjust_for_ambient_noise(source)  # Chama a funcao de reducao de ruido\n",
    "        print(\"Diga alguma coisa: \")\n",
    "        audio = microfone.listen(source)  # Armazena a informacao de audio na variavel\n",
    "    try:\n",
    "        texto = microfone.recognize_google(audio, language='pt-BR')  # Transforma audio em texto\n",
    "        if 'estagiário' in texto.lower():\n",
    "            print(\"Você disse: \" + texto)\n",
    "            return texto\n",
    "    # Caso nao tenha reconhecido o padrao de fala, exibe esta mensagem\n",
    "    except sr.WaitTimeoutError:\n",
    "        print(\"Não entendi\")\n",
    "\n"
   ]
  },
  {
   "cell_type": "code",
   "execution_count": 73,
   "metadata": {},
   "outputs": [],
   "source": [
    "def interface():\n",
    "    frase= ouvir_microfone()\n",
    "    frase=frase.lower()\n",
    "    \n",
    "    if \"abrir\" in frase and 'youtube' in frase:\n",
    "        webbrowser.open(\"https://www.youtube.com\",new=2)\n",
    "    elif \"abrir\" in frase and 'google' in frase:\n",
    "        webbrowser.open(\"https://www.google.com\",new=2)\n",
    "    elif 'aprender' in frase:\n",
    "           \n",
    "        \n",
    "    else:\n",
    "        print(\"frase\")"
   ]
  },
  {
   "cell_type": "code",
   "execution_count": 74,
   "metadata": {},
   "outputs": [
    {
     "name": "stdout",
     "output_type": "stream",
     "text": [
      "Diga alguma coisa: \n",
      "Você disse: estagiário Abrir Google\n"
     ]
    }
   ],
   "source": [
    "interface()"
   ]
  },
  {
   "cell_type": "code",
   "execution_count": null,
   "metadata": {},
   "outputs": [],
   "source": [
    "def soma():\n",
    "    return 1+1"
   ]
  },
  {
   "cell_type": "code",
   "execution_count": 77,
   "metadata": {},
   "outputs": [],
   "source": [
    "linhas=[\n",
    "   \"\"\" def soma():\n",
    "        return 1+1\"\"\"\n",
    "    \n",
    "]"
   ]
  },
  {
   "cell_type": "code",
   "execution_count": 79,
   "metadata": {},
   "outputs": [],
   "source": [
    "with open('comandos.py','w') as arquivo:\n",
    "    arquivo.writelines(linhas)"
   ]
  },
  {
   "cell_type": "code",
   "execution_count": 81,
   "metadata": {
    "scrolled": true
   },
   "outputs": [],
   "source": [
    "import comandos"
   ]
  },
  {
   "cell_type": "code",
   "execution_count": 83,
   "metadata": {},
   "outputs": [
    {
     "data": {
      "text/plain": [
       "2"
      ]
     },
     "execution_count": 83,
     "metadata": {},
     "output_type": "execute_result"
    }
   ],
   "source": [
    "comandos.soma()"
   ]
  },
  {
   "cell_type": "code",
   "execution_count": null,
   "metadata": {},
   "outputs": [],
   "source": []
  }
 ],
 "metadata": {
  "kernelspec": {
   "display_name": "Python 3",
   "language": "python",
   "name": "python3"
  },
  "language_info": {
   "codemirror_mode": {
    "name": "ipython",
    "version": 3
   },
   "file_extension": ".py",
   "mimetype": "text/x-python",
   "name": "python",
   "nbconvert_exporter": "python",
   "pygments_lexer": "ipython3",
   "version": "3.6.9"
  },
  "latex_envs": {
   "LaTeX_envs_menu_present": true,
   "autoclose": false,
   "autocomplete": true,
   "bibliofile": "biblio.bib",
   "cite_by": "apalike",
   "current_citInitial": 1,
   "eqLabelWithNumbers": true,
   "eqNumInitial": 1,
   "hotkeys": {
    "equation": "Ctrl-E",
    "itemize": "Ctrl-I"
   },
   "labels_anchors": false,
   "latex_user_defs": false,
   "report_style_numbering": false,
   "user_envs_cfg": false
  }
 },
 "nbformat": 4,
 "nbformat_minor": 2
}
