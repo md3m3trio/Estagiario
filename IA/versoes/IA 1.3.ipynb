{
 "cells": [
  {
   "cell_type": "code",
   "execution_count": 1,
   "metadata": {},
   "outputs": [],
   "source": [
    "#@autor Gustavo Moss Renato Regianne\n",
    "import speech_recognition as sr\n",
    "from gtts import gTTS\n",
    "from unicodedata import normalize\n",
    "from playsound import playsound\n",
    "import os\n",
    "import sys\n",
    "from diretorio.comandos import *\n",
    "import spacy\n",
    "from nltk import RSLPStemmer\n",
    "import nltk\n",
    "nlp = spacy.load('pt_core_news_sm')"
   ]
  },
  {
   "cell_type": "code",
   "execution_count": 2,
   "metadata": {},
   "outputs": [],
   "source": [
    "class ComunicacaoEstagiario(object):\n",
    "    \n",
    "    def cria_audio(audio):\n",
    "        tts = gTTS(audio,lang='pt-br')\n",
    "        #Salva o arquivo de audio\n",
    "        tts.save('/home/moss/IA/teste.mp3')\n",
    "        print(\"sim mestre\")\n",
    "        #Da play ao audio\n",
    "        playsound('/home/moss/IA/teste.mp3')\n",
    "\n",
    "    \n",
    "    def ouvir_microfone():\n",
    "        \"\"\"Funcao responsavel por ouvir e reconhecer a fala\"\"\"\n",
    "        microfone = sr.Recognizer()  # Habilita o microfone para ouvir o usuario\n",
    "        with sr.Microphone() as source:\n",
    "            microfone.adjust_for_ambient_noise(source)  # Chama a funcao de reducao de ruido\n",
    "            print(\"Diga alguma coisa: \")\n",
    "            audio = microfone.listen(source)  # Armazena a informacao de audio na variavel\n",
    "        try:\n",
    "            texto = microfone.recognize_google(audio, language='pt-BR')  # Transforma audio em texto\n",
    "            if 'estagiário' in texto.lower():\n",
    "                texto = texto.replace('estagiário', '').strip()\n",
    "                print(\"Você disse: \" + texto)\n",
    "                return texto\n",
    "        # Caso nao tenha reconhecido o padrao de fala, exibe esta mensagem\n",
    "        except sr.WaitTimeoutError:\n",
    "            print(\"Não entendi\")\n"
   ]
  },
  {
   "cell_type": "code",
   "execution_count": 11,
   "metadata": {},
   "outputs": [],
   "source": [
    "class ComandosEstagiario(object):\n",
    "        \n",
    "#         transforma a primeira linha do arquivo em lista, \n",
    "#         a lista de comandos para poder ser manipulada,\n",
    "#         funcao privada\n",
    "        def __manipulaListaDeComandos():\n",
    "            with open('listaDeComandos.txt','r') as arquivo:\n",
    "                dic=arquivo.read()\n",
    "                dic=eval(dic)\n",
    "            return dic\n",
    "        \n",
    "        #seleciona o comando dentro da lista de comandos \n",
    "        def __selecionaComando(comando):\n",
    "            comandos=ComandosEstagiario.__manipulaListaDeComandos()\n",
    "            if comando in comandos.keys():\n",
    "                return True\n",
    "\n",
    "        def __identificaComando(frase):\n",
    "            stemmer = RSLPStemmer()  # usado para pegar o radical da palavra\n",
    "            doc = nlp(frase)\n",
    "            dic_cmd = {'index_acao':[palavra.i for palavra in doc if palavra.dep_ == 'ROOT'][0]}\n",
    "            dic_cmd['acao'] = doc[dic_cmd['index_acao']].orth_\n",
    "            dic_cmd['comp_acao'] = [palavra.orth_ for palavra in doc[dic_cmd['index_acao']].rights][0]\n",
    "            cmd = '_'.join([stemmer.stem(dic_cmd['acao']),\n",
    "                            stemmer.stem(dic_cmd['comp_acao'])])\n",
    "            return cmd\n",
    "            \n",
    "        def executaComando(voz):\n",
    "            comando=ComandosEstagiario.__identificaComando(voz)\n",
    "            if ComandosEstagiario.__selecionaComando(comando):\n",
    "                return eval(f'{comando}()')\n",
    "                \n",
    "            else:\n",
    "                #vai ter uma funcao pra ele falar(audio)\n",
    "                print('desculpe mestre eu nao sei fazer isso, sou apenas um estagiario')\n",
    "    "
   ]
  },
  {
   "cell_type": "code",
   "execution_count": 12,
   "metadata": {},
   "outputs": [],
   "source": [
    "class Estagiario(ComandosEstagiario,ComunicacaoEstagiario):\n",
    "    def interface():\n",
    "        #frase=Estagiario.ouvir_microfone() #automatizado \n",
    "        #manual para testes \n",
    "        frase=input('comando:')\n",
    "        print(Estagiario.executaComando(frase))\n",
    "        frase=Estagiario.executaComando(frase)\n",
    "        Estagiario.interface()\n",
    "            \n",
    "        "
   ]
  },
  {
   "cell_type": "code",
   "execution_count": 13,
   "metadata": {
    "scrolled": true
   },
   "outputs": [
    {
     "name": "stdout",
     "output_type": "stream",
     "text": [
      "comando:somar conta\n",
      "2\n",
      "comando:finalizar sistema\n"
     ]
    },
    {
     "ename": "SystemExit",
     "evalue": "",
     "output_type": "error",
     "traceback": [
      "An exception has occurred, use %tb to see the full traceback.\n",
      "\u001b[0;31mSystemExit\u001b[0m\n"
     ]
    },
    {
     "name": "stderr",
     "output_type": "stream",
     "text": [
      "/usr/lib/python3/dist-packages/IPython/core/interactiveshell.py:2890: UserWarning: To exit: use 'exit', 'quit', or Ctrl-D.\n",
      "  warn(\"To exit: use 'exit', 'quit', or Ctrl-D.\", stacklevel=1)\n"
     ]
    }
   ],
   "source": [
    "Estagiario.interface()"
   ]
  },
  {
   "cell_type": "code",
   "execution_count": 44,
   "metadata": {},
   "outputs": [],
   "source": [
    "with open('listaDeComandos.txt','r') as arquivo:\n",
    "    dic=arquivo.read()\n",
    "    dic=eval(dic)"
   ]
  },
  {
   "cell_type": "code",
   "execution_count": 45,
   "metadata": {},
   "outputs": [
    {
     "data": {
      "text/plain": [
       "True"
      ]
     },
     "execution_count": 45,
     "metadata": {},
     "output_type": "execute_result"
    }
   ],
   "source": [
    "'som_cont' in dic.keys()"
   ]
  },
  {
   "cell_type": "code",
   "execution_count": 49,
   "metadata": {},
   "outputs": [
    {
     "name": "stdout",
     "output_type": "stream",
     "text": [
      "funcao:som_cont  docString:soma dois numeros\n",
      "funcao:subtra_cont  docString:subtrai dois numeros\n",
      "funcao:abr_sit  docString:abre um site\n",
      "funcao:final_sistem  docString:finaliza o estagiario\n"
     ]
    }
   ],
   "source": [
    "for funcao,docString in dic.items():\n",
    "    print('funcao:'+funcao+\"  \"+'docString:'+docString)"
   ]
  },
  {
   "cell_type": "code",
   "execution_count": null,
   "metadata": {},
   "outputs": [],
   "source": []
  }
 ],
 "metadata": {
  "kernelspec": {
   "display_name": "Python 3",
   "language": "python",
   "name": "python3"
  },
  "language_info": {
   "codemirror_mode": {
    "name": "ipython",
    "version": 3
   },
   "file_extension": ".py",
   "mimetype": "text/x-python",
   "name": "python",
   "nbconvert_exporter": "python",
   "pygments_lexer": "ipython3",
   "version": "3.6.9"
  },
  "latex_envs": {
   "LaTeX_envs_menu_present": true,
   "autoclose": false,
   "autocomplete": true,
   "bibliofile": "biblio.bib",
   "cite_by": "apalike",
   "current_citInitial": 1,
   "eqLabelWithNumbers": true,
   "eqNumInitial": 1,
   "hotkeys": {
    "equation": "Ctrl-E",
    "itemize": "Ctrl-I"
   },
   "labels_anchors": false,
   "latex_user_defs": false,
   "report_style_numbering": false,
   "user_envs_cfg": false
  }
 },
 "nbformat": 4,
 "nbformat_minor": 2
}
